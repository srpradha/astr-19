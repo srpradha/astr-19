{
 "cells": [
  {
   "cell_type": "markdown",
   "metadata": {},
   "source": [
    "Import the necessary libraries."
   ]
  },
  {
   "cell_type": "code",
   "execution_count": 1,
   "metadata": {},
   "outputs": [],
   "source": [
    "import numpy as np"
   ]
  },
  {
   "cell_type": "markdown",
   "metadata": {},
   "source": [
    "Function that returns the `sin()` of a given value."
   ]
  },
  {
   "cell_type": "code",
   "execution_count": 2,
   "metadata": {},
   "outputs": [],
   "source": [
    "def get_sin(x):\n",
    "    return np.sin(x)"
   ]
  },
  {
   "cell_type": "markdown",
   "metadata": {},
   "source": [
    "Function that returns the `cos()` of a given value."
   ]
  },
  {
   "cell_type": "code",
   "execution_count": 3,
   "metadata": {},
   "outputs": [],
   "source": [
    "def get_cos(x):\n",
    "    return np.cos(x)"
   ]
  },
  {
   "cell_type": "markdown",
   "metadata": {},
   "source": [
    "Function that tabulates `sin()` and `cos()` vs. `x` where `x` is tabulated between `0` and `2pi` with a thousand entries."
   ]
  },
  {
   "cell_type": "code",
   "execution_count": 4,
   "metadata": {},
   "outputs": [],
   "source": [
    "# table of x values\n",
    "x_vals = np.linspace(0, 2 * np.pi, num=1000)\n",
    "\n",
    "# sin(x) table\n",
    "sin_x_vals = np.sin(x_vals)\n",
    "\n",
    "# cos(x) table\n",
    "cos_x_vals = np.cos(x_vals)"
   ]
  },
  {
   "cell_type": "markdown",
   "metadata": {},
   "source": [
    "`for` loop that prints the first `10` values of `x`, `sin(x)`, and `cos(x)` in columns."
   ]
  },
  {
   "cell_type": "code",
   "execution_count": 13,
   "metadata": {},
   "outputs": [
    {
     "name": "stdout",
     "output_type": "stream",
     "text": [
      "x\t\t\tsin(x)\t\t\tcos(x)\n",
      "--------------------------------------------------------------\n",
      "0.0\t\t\t0.0\t\t\t1.0\t\t\n",
      "0.006289474781961547\t0.006289433316067751\t0.9999802213186832\n",
      "0.012578949563923095\t0.012578617838741058\t0.9999208860571255\n",
      "0.018868424345884642\t0.01886730478446709\t0.9998219965624732\n",
      "0.02515789912784619\t0.025155245389375847\t0.9996835567465339\n",
      "0.03144737390980774\t0.0314421909191206\t0.9995055720856215\n",
      "0.037736848691769284\t0.03772789267871718\t0.99928804962034\n",
      "0.04402632347373083\t0.04401210202238166\t0.9990309979553044\n",
      "0.05031579825569238\t0.05029457036336618\t0.9987344272588006\n",
      "0.056605273037653926\t0.056575049183792345\t0.9983983492623831\n"
     ]
    }
   ],
   "source": [
    "# print col labels\n",
    "print(\"x\\t\\t\\tsin(x)\\t\\t\\tcos(x)\")\n",
    "print(\"------------------------------------------------------------------\")\n",
    "\n",
    "# print vals\n",
    "for i in range(10):\n",
    "    # string versions\n",
    "    x_str = str(x_vals[i])\n",
    "    sx_str = str(sin_x_vals[i])\n",
    "    cx_str = str(cos_x_vals[i])\n",
    "    \n",
    "    # formatting\n",
    "    if len(x_str) < 15:\n",
    "        x_str = f\"{x_str}\\t\\t\"\n",
    "    if len(sx_str) < 15:\n",
    "        sx_str = f\"{sx_str}\\t\\t\"\n",
    "    if len(cx_str) < 15:\n",
    "        cx_str = f\"{cx_str}\\t\\t\"\n",
    "\n",
    "    # print x, sin(x), cos(x)\n",
    "    print(f\"{x_str}\\t{sx_str}\\t{cx_str}\")"
   ]
  }
 ],
 "metadata": {
  "kernelspec": {
   "display_name": "venv",
   "language": "python",
   "name": "python3"
  },
  "language_info": {
   "codemirror_mode": {
    "name": "ipython",
    "version": 3
   },
   "file_extension": ".py",
   "mimetype": "text/x-python",
   "name": "python",
   "nbconvert_exporter": "python",
   "pygments_lexer": "ipython3",
   "version": "3.10.12"
  },
  "orig_nbformat": 4
 },
 "nbformat": 4,
 "nbformat_minor": 2
}
