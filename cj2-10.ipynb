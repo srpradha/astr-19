{
 "cells": [
  {
   "cell_type": "markdown",
   "metadata": {},
   "source": [
    "# Coding Journal 2 Session 10"
   ]
  },
  {
   "cell_type": "markdown",
   "metadata": {},
   "source": [
    "Import libraries"
   ]
  },
  {
   "cell_type": "code",
   "execution_count": null,
   "metadata": {},
   "outputs": [],
   "source": [
    "import matplotlib.pyplot as plt\n",
    "import numpy as np"
   ]
  },
  {
   "cell_type": "markdown",
   "metadata": {},
   "source": [
    "Array of 1000 random numbers distributed uniformly between [0, 1]"
   ]
  },
  {
   "cell_type": "code",
   "execution_count": null,
   "metadata": {},
   "outputs": [],
   "source": [
    "random_nums = np.random.rayleigh(10, 100)"
   ]
  },
  {
   "cell_type": "markdown",
   "metadata": {},
   "source": [
    "Histogram of the random numbers with 100 bins and save the figure as a PDF"
   ]
  },
  {
   "cell_type": "code",
   "execution_count": null,
   "metadata": {},
   "outputs": [],
   "source": [
    "# define figure and axis\n",
    "f, ax = plt.subplots(1, 1, figsize=(5, 5))\n",
    "\n",
    "# create histogram\n",
    "ax.hist(random_nums, bins=20, edgecolor=\"black\", alpha=0.5)\n",
    "\n",
    "# label axes\n",
    "ax.set_xlabel(\"number\", fontsize=12)\n",
    "ax.set_ylabel(\"count\", fontsize=12)\n",
    "\n",
    "# save figure as PDF\n",
    "plt.savefig(\"figure2-10.pdf\", bbox_inches='tight', dpi=400)"
   ]
  }
 ],
 "metadata": {
  "kernelspec": {
   "display_name": "venv",
   "language": "python",
   "name": "python3"
  },
  "language_info": {
   "codemirror_mode": {
    "name": "ipython",
    "version": 3
   },
   "file_extension": ".py",
   "mimetype": "text/x-python",
   "name": "python",
   "nbconvert_exporter": "python",
   "pygments_lexer": "ipython3",
   "version": "3.10.12"
  }
 },
 "nbformat": 4,
 "nbformat_minor": 2
}
