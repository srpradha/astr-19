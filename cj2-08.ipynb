{
 "cells": [
  {
   "cell_type": "markdown",
   "metadata": {},
   "source": [
    "# Coding Journal 2 Session 8"
   ]
  },
  {
   "cell_type": "markdown",
   "metadata": {},
   "source": [
    "Import libraries"
   ]
  },
  {
   "cell_type": "code",
   "execution_count": null,
   "metadata": {},
   "outputs": [],
   "source": [
    "import matplotlib.pyplot as plt\n",
    "import numpy as np"
   ]
  },
  {
   "cell_type": "markdown",
   "metadata": {},
   "source": [
    "Array ranging [0, 1] in 100 steps"
   ]
  },
  {
   "cell_type": "code",
   "execution_count": null,
   "metadata": {},
   "outputs": [],
   "source": [
    "x = np.linspace(0, 1, num=100)"
   ]
  },
  {
   "cell_type": "markdown",
   "metadata": {},
   "source": [
    "Functions for sin() and cos()"
   ]
  },
  {
   "cell_type": "code",
   "execution_count": null,
   "metadata": {},
   "outputs": [],
   "source": [
    "def my_sin(x):\n",
    "    return np.sin(x)"
   ]
  },
  {
   "cell_type": "code",
   "execution_count": null,
   "metadata": {},
   "outputs": [],
   "source": [
    "def my_cos(x):\n",
    "    return np.cos(x)"
   ]
  },
  {
   "cell_type": "markdown",
   "metadata": {},
   "source": [
    "Arrays for sin(x) and cos(x) values"
   ]
  },
  {
   "cell_type": "code",
   "execution_count": null,
   "metadata": {},
   "outputs": [],
   "source": [
    "s_x = my_sin(x)\n",
    "c_x = my_cos(x)"
   ]
  },
  {
   "cell_type": "markdown",
   "metadata": {},
   "source": [
    "Create the plot and save the figure as a PDF"
   ]
  },
  {
   "cell_type": "code",
   "execution_count": null,
   "metadata": {},
   "outputs": [],
   "source": [
    "# number of columns and number of rows\n",
    "n_rows = 1\n",
    "n_cols = 2\n",
    "\n",
    "# define figure and axis\n",
    "f, ax = plt.subplots(n_rows, n_cols, figsize=(4*n_cols, 4*n_rows))\n",
    "\n",
    "# plot 1\n",
    "ax[0].plot(x, s_x)\n",
    "ax[0].set_xlabel(\"x\", fontsize=12)\n",
    "ax[0].set_ylabel(\"sin(x)\", fontsize=12)\n",
    "ax[0].set_title(\"sin(x)\", fontsize=12)\n",
    "\n",
    "# plot 2\n",
    "ax[1].plot(x, c_x)\n",
    "ax[1].set_xlabel(\"x\", fontsize=12)\n",
    "ax[1].set_ylabel(\"cos(x)\", fontsize=12)\n",
    "ax[1].set_title(\"cos(x)\", fontsize=12)\n",
    "\n",
    "# fix layout\n",
    "plt.tight_layout()\n",
    "\n",
    "# save figure as a pdf\n",
    "plt.savefig(\"figure2-08.pdf\", bbox_inches='tight', dpi=400)"
   ]
  }
 ],
 "metadata": {
  "kernelspec": {
   "display_name": "venv",
   "language": "python",
   "name": "python3"
  },
  "language_info": {
   "codemirror_mode": {
    "name": "ipython",
    "version": 3
   },
   "file_extension": ".py",
   "mimetype": "text/x-python",
   "name": "python",
   "nbconvert_exporter": "python",
   "pygments_lexer": "ipython3",
   "version": "3.10.12"
  }
 },
 "nbformat": 4,
 "nbformat_minor": 2
}
